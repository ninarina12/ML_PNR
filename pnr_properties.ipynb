{
 "cells": [
  {
   "cell_type": "markdown",
   "id": "cebb2a39",
   "metadata": {},
   "source": [
    "[![Open In Colab](https://colab.research.google.com/assets/colab-badge.svg)](http://colab.research.google.com/github/ninarina12/ML_PNR/blob/master/pnr_properties.ipynb)"
   ]
  },
  {
   "cell_type": "markdown",
   "id": "213b0fe3",
   "metadata": {},
   "source": [
    "### Only if running in Google Colaboratory:\n",
    "- Go to Runtime > Change runtime type, and select GPU.\n",
    "- Clone the GitHub repository to access supplementary files:"
   ]
  },
  {
   "cell_type": "code",
   "execution_count": null,
   "id": "aaa5a705",
   "metadata": {},
   "outputs": [],
   "source": [
    "!git clone https://github.com/ninarina12/ML_PNR.git\n",
    "%cd ML_PNR"
   ]
  },
  {
   "cell_type": "markdown",
   "id": "c8ff2b53",
   "metadata": {},
   "source": [
    "### Visualize simulated and/or experimental PNR data"
   ]
  },
  {
   "cell_type": "code",
   "execution_count": null,
   "id": "94f00b16",
   "metadata": {},
   "outputs": [],
   "source": [
    "%matplotlib inline\n",
    "import numpy as np\n",
    "import pandas as pd\n",
    "import os\n",
    "import seaborn as sns\n",
    "import matplotlib as mpl\n",
    "import matplotlib.pyplot as plt\n",
    "\n",
    "from scipy.stats import mode\n",
    "from utils.utils_data import u, parse_metadata, parse_labels, get_exp_names, read_exp\n",
    "from utils.utils_plot import format_axis, fontsize, textsize, cmap, cmap_temp, FM_colors, AFM_colors"
   ]
  },
  {
   "cell_type": "code",
   "execution_count": null,
   "id": "71dff0d7",
   "metadata": {},
   "outputs": [],
   "source": [
    "# set data properties\n",
    "sample_name = 'BiSe10_EuS5' #'CrO20_BiSbTe20'\n",
    "dataset = 0\n",
    "\n",
    "# get directories\n",
    "set_dir = 'results/' + sample_name + '/set_' + str(dataset)\n",
    "data_dir = set_dir + '/data'\n",
    "image_dir = set_dir + '/properties'\n",
    "\n",
    "if not os.path.exists(image_dir):\n",
    "    os.makedirs(image_dir)\n",
    "\n",
    "print('data:', set_dir)"
   ]
  },
  {
   "cell_type": "code",
   "execution_count": null,
   "id": "5e6b8655",
   "metadata": {},
   "outputs": [],
   "source": [
    "# data settings\n",
    "layers, rho, M, N, q_min, q_max = parse_metadata(set_dir)\n",
    "q = 10*np.linspace(q_min, q_max, N)"
   ]
  },
  {
   "cell_type": "code",
   "execution_count": null,
   "id": "b9ba065d",
   "metadata": {},
   "outputs": [],
   "source": [
    "# parse synthetic data\n",
    "xdata_uu =  data_dir + '/xdata_uu.txt'\n",
    "xdata_dd =  data_dir + '/xdata_dd.txt'\n",
    "ydata =  data_dir + '/ydata.txt'\n",
    "\n",
    "x_uu = pd.read_csv(xdata_uu, header=None, sep=' ', dtype=float).values\n",
    "x_dd = pd.read_csv(xdata_dd, header=None, sep=' ', dtype=float).values\n",
    "x = np.stack([x_uu, x_dd], axis=2)\n",
    "\n",
    "df = pd.read_csv(ydata, dtype=float)\n",
    "y_data, y_columns, y_header, y_ids, y_labels, y_units, y_units_ = parse_labels(df)"
   ]
  },
  {
   "cell_type": "code",
   "execution_count": null,
   "id": "8c8683f1",
   "metadata": {},
   "outputs": [],
   "source": [
    "# separate into classes if clear threshold present\n",
    "df['class_prox'] = (df['magn_prox'] > 0.).astype(int)\n",
    "\n",
    "# get ratio of classes\n",
    "r = len(df.loc[df['class_prox'] == 1])/(len(df.loc[df['class_prox'] == 0]) + 1e-12)\n",
    "\n",
    "# round to nearest multiple of 5\n",
    "def nround(x, n=5):\n",
    "    return n*round(x/n)\n",
    "r = nround(r)\n",
    "print(r)"
   ]
  },
  {
   "cell_type": "code",
   "execution_count": null,
   "id": "48c9a033",
   "metadata": {},
   "outputs": [],
   "source": [
    "# organize dataframe of parameter values\n",
    "layer = []\n",
    "for l in layers:\n",
    "    layer += [l]*len(df)\n",
    "\n",
    "df = pd.DataFrame({'layer': layer,\n",
    "                   'dens': np.concatenate([df[col].values for col in df.columns if col.startswith('dens_')]),\n",
    "                   'd': np.concatenate([df[col].values for col in df.columns if col.startswith('d_')]),\n",
    "                   's': np.concatenate([df[col].values for col in df.columns if col.startswith('s_')]),\n",
    "                   'magn': np.concatenate([df[col].values for col in df.columns if col.startswith('magn_')]),\n",
    "                   'class_prox': np.tile(df['class_prox'].values, len(layers))})"
   ]
  },
  {
   "cell_type": "code",
   "execution_count": null,
   "id": "f0e0d72d",
   "metadata": {},
   "outputs": [],
   "source": [
    "# plot parameter ranges\n",
    "u = 1.66054\n",
    "df['M'] = df['layer'].map(lambda x: M[layers.index(x)])\n",
    "\n",
    "# sampled density in g/cm^3\n",
    "df['rho'] = df['dens']*u*df['M']/1e3\n",
    "\n",
    "# magnetization in emu/cm^3\n",
    "df['magn_'] = df['magn']*df['dens']*9.274\n",
    "\n",
    "if sample_name == 'CrO20_BiSbTe20': sample_colors = AFM_colors\n",
    "else: sample_colors = FM_colors\n",
    "cols = dict(zip(layers, sample_colors))\n",
    "\n",
    "fig, ((ax1, ax2, ax3), (ax4, ax5, ax6)) = plt.subplots(2,3, figsize=(11, len(layers)+1.5))\n",
    "ylabels = ['t (nm)', r'$\\rho\\ (f.u./nm^3)$', r'$\\rho\\ (g/cm^3)$',\n",
    "           r'$\\sigma\\ (nm)$', 'm ('+r'$\\mu_B$/f.u.)', 'm ('+r'$emu/cm^3$)']\n",
    "\n",
    "if r < 1e12:\n",
    "    # split plot by class\n",
    "    for i, (param, ax, ylabel) in enumerate(zip(['d', 'dens', 'rho', 's', 'magn', 'magn_'],\n",
    "                                                [ax1, ax2, ax3, ax4, ax5, ax6], ylabels)):\n",
    "\n",
    "        g = sns.violinplot(ax=ax, x=param, y='layer', hue='class_prox', split=True, inner=None, cut=0, width=0.6,\n",
    "                           scale='count', palette={0:'w', 1:'k'}, data=df)\n",
    "        g.legend_.remove()\n",
    "        lg = len(g.collections)\n",
    "        for j, item in enumerate(g.collections):\n",
    "            c = int(np.round(item._paths[0].vertices[:,1].mean()))\n",
    "            item._facecolors = np.array([mpl.colors.to_rgb(sample_colors[c]) + (1,)])\n",
    "\n",
    "            if item._original_facecolor == (1.,1.,1.):\n",
    "                item._hatch = \"//\"\n",
    "                path = item._paths[0].vertices[:,1]\n",
    "                b = mode(path)[0][0]\n",
    "                item._paths[0].vertices[:,1][path != b] = b + r*(path[path != b] - b)\n",
    "        \n",
    "        ax.invert_yaxis()\n",
    "        format_axis(ax, ylabel, '', nbins=4)\n",
    "        if i%3: ax.set_yticklabels([])\n",
    "    \n",
    "    ax.legend(frameon=False, labels=['Pos. counts', r'Neg. counts $\\times$ ' + str(r)],\n",
    "              labelspacing=1., loc='lower left', bbox_to_anchor=(1,0))\n",
    "\n",
    "else:\n",
    "    for i, (param, ax, ylabel) in enumerate(zip(['d', 'dens', 'rho', 's', 'magn', 'magn_'],\n",
    "                                                [ax1, ax2, ax3, ax4, ax5, ax6], ylabels)):\n",
    "\n",
    "        g = sns.violinplot(ax=ax, x=param, y='layer', inner=None, cut=0, width=0.6,\n",
    "                           scale='count', palette=cols, data=df)\n",
    "        ax.invert_yaxis()\n",
    "        format_axis(ax, ylabel, '', nbins=4)\n",
    "        if i%3: ax.set_yticklabels([])\n",
    "    \n",
    "fig.tight_layout()\n",
    "fig.savefig(image_dir + '/parameters.pdf')"
   ]
  },
  {
   "cell_type": "markdown",
   "id": "4d000bcd",
   "metadata": {},
   "source": [
    "### If experimental data available\n",
    "Assumes experimental data files are stored in an `experiments/${SAMPLE}/` directory. Each measurement is stored in a sub-directory containing corresponding `x_uu.dat`, `x_dd.dat`, and `x_fit.csv`, where `x_fit.csv` contains the fitted spectra obtained by conventional methods."
   ]
  },
  {
   "cell_type": "code",
   "execution_count": null,
   "id": "b291a917",
   "metadata": {
    "scrolled": false
   },
   "outputs": [],
   "source": [
    "# plot experiment\n",
    "exp_names = get_exp_names(sample_name)\n",
    "labels = [k[:-1] + 'K' for k in exp_names]\n",
    "\n",
    "fig, (ax1, ax2) = plt.subplots(1,2, figsize=(8.5,4.6), sharey=True)\n",
    "temps = [int(k[:-1]) for k in exp_names]\n",
    "norm = mpl.colors.Normalize(vmin=0, vmax=len(temps)-1)\n",
    "for i in range(len(temps)):\n",
    "    xdata_uu = 'experiments/' + sample_name + '/' + exp_names[i] + '/x_uu.dat'\n",
    "    xdata_dd = 'experiments/' + sample_name + '/' + exp_names[i] + '/x_dd.dat'\n",
    "    xdata_fit = 'experiments/' + sample_name + '/' + exp_names[i] + '/x_fit.csv'\n",
    "    df_uu = read_exp(xdata_uu)\n",
    "    df_dd = read_exp(xdata_dd)\n",
    "    df_fit = pd.read_csv(xdata_fit)\n",
    "\n",
    "    ax1.errorbar(10*df_uu['Q'], 10**i*df_uu['R'], 10**i*df_uu['dR'], lw=0, elinewidth=1, color=cmap_temp(norm(i)))\n",
    "    ax2.errorbar(10*df_dd['Q'], 10**i*df_dd['R'], 10**i*df_dd['dR'], lw=0, elinewidth=1, color=cmap_temp(norm(i)))\n",
    "    ax1.scatter(10*df_uu['Q'], 10**i*df_uu['R'], s=24, color=cmap_temp(norm(i)), ec='none', label=labels[i])\n",
    "    ax2.scatter(10*df_dd['Q'], 10**i*df_dd['R'], s=24, color=cmap_temp(norm(i)), ec='none', label=labels[i])\n",
    "    ax1.plot(10*df_fit['x'], 10**i*df_fit['y_uu'], color=cmap_temp(norm(i)), alpha=0.7)\n",
    "    ax2.plot(10*df_fit['x'], 10**i*df_fit['y_dd'], color=cmap_temp(norm(i)), alpha=0.7)\n",
    "\n",
    "ax1.set_yscale('log')\n",
    "ax2.set_yscale('log')\n",
    "ax1.legend(frameon=False, ncol=2, loc='upper right', columnspacing=0.2, handletextpad=0.2)\n",
    "ax2.legend(frameon=False, ncol=2, loc='upper right', columnspacing=0.2, handletextpad=0.2)\n",
    "\n",
    "format_axis(ax1, 'Q (nm$^{-1}$)', 'Reflectivity', 'R$^{++}$', xlims=[q.min(), q.max()])\n",
    "format_axis(ax2, 'Q (nm$^{-1}$)', ' ', 'R$^{--}$', xlims=[q.min(), q.max()])\n",
    "\n",
    "fig.tight_layout()\n",
    "fig.subplots_adjust(wspace=0.1)\n",
    "fig.savefig(image_dir + '/pnr_experiment.pdf')"
   ]
  },
  {
   "cell_type": "code",
   "execution_count": null,
   "id": "db0ddb75",
   "metadata": {},
   "outputs": [],
   "source": [
    "# save colorbar\n",
    "cmap_temp_disc = mpl.colors.ListedColormap(cmap_temp(norm(range(len(temps)))))\n",
    "norm = mpl.colors.Normalize(vmin=0, vmax=len(temps))\n",
    "sm = mpl.cm.ScalarMappable(cmap=cmap_temp_disc, norm=norm)\n",
    "sm.set_array([])\n",
    "\n",
    "fig, ax = plt.subplots(figsize=(0.21,2.5))\n",
    "cbar = fig.colorbar(sm, cax=ax, ticks=np.arange(0.5,len(temps)))\n",
    "cbar.ax.set_yticklabels([str(i) for i in temps])\n",
    "cbar.ax.minorticks_off()\n",
    "format_axis(cbar.ax, '', '', 'T (K)')\n",
    "fig.savefig(image_dir + '/pnr_experiment_cbar.pdf', bbox_inches='tight')"
   ]
  },
  {
   "cell_type": "code",
   "execution_count": null,
   "id": "296920a4",
   "metadata": {},
   "outputs": [],
   "source": []
  }
 ],
 "metadata": {
  "kernelspec": {
   "display_name": "Python 3 (ipykernel)",
   "language": "python",
   "name": "python3"
  },
  "language_info": {
   "codemirror_mode": {
    "name": "ipython",
    "version": 3
   },
   "file_extension": ".py",
   "mimetype": "text/x-python",
   "name": "python",
   "nbconvert_exporter": "python",
   "pygments_lexer": "ipython3",
   "version": "3.7.5"
  }
 },
 "nbformat": 4,
 "nbformat_minor": 5
}
