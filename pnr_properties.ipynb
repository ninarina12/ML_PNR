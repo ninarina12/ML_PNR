{
 "cells": [
  {
   "cell_type": "code",
   "execution_count": null,
   "id": "97b6e44d",
   "metadata": {},
   "outputs": [],
   "source": [
    "%matplotlib inline\n",
    "import numpy as np\n",
    "import pandas as pd\n",
    "import os\n",
    "import seaborn as sns\n",
    "import matplotlib.pyplot as plt\n",
    "\n",
    "from pnr_utils import *\n",
    "from plot_imports import *"
   ]
  },
  {
   "cell_type": "code",
   "execution_count": null,
   "id": "e08cff09",
   "metadata": {},
   "outputs": [],
   "source": [
    "# set data properties\n",
    "sample_name = 'CrO20_BiSbTe20' #'BiSe10_EuS5'\n",
    "dataset = 0\n",
    "fit_roughness = False"
   ]
  },
  {
   "cell_type": "code",
   "execution_count": null,
   "id": "2c1c0573",
   "metadata": {},
   "outputs": [],
   "source": [
    "# get directories\n",
    "set_dir = 'results/' + sample_name + '/set_' + str(dataset)\n",
    "data_dir = set_dir + '/data'\n",
    "image_dir = set_dir + '/properties'\n",
    "\n",
    "if not os.path.exists(image_dir):\n",
    "    os.makedirs(image_dir)\n",
    "\n",
    "print('data:', set_dir)"
   ]
  },
  {
   "cell_type": "code",
   "execution_count": null,
   "id": "7496820b",
   "metadata": {},
   "outputs": [],
   "source": [
    "# data settings\n",
    "layers, rho, M, N, q_min, q_max = parse_metadata(set_dir)\n",
    "q = 10*np.linspace(q_min, q_max, N)"
   ]
  },
  {
   "cell_type": "code",
   "execution_count": null,
   "id": "abbecc5b",
   "metadata": {},
   "outputs": [],
   "source": [
    "# plot experiment\n",
    "exp_names = next(os.walk('experiments/' + sample_name))[1]\n",
    "exp_names = [k for k in exp_names if '-' not in k]\n",
    "exp_names = [exp_names[j] for j in np.argsort([int(i[:i.index('K')]) for i in exp_names])]\n",
    "\n",
    "fig, (ax1, ax2) = plt.subplots(1,2, figsize=(9.5,5), sharey=True)\n",
    "prop_text = prop.copy()\n",
    "prop_text.set_size(14)\n",
    "\n",
    "temps = [int(k[:-1]) for k in exp_names]\n",
    "norm = mpl.colors.LogNorm(vmin=min(temps), vmax=max(temps))\n",
    "for i in range(len(exp_names)):\n",
    "    xdata_uu = 'experiments/' + sample_name + '/' + exp_names[i] + '/x_uu.dat'\n",
    "    xdata_dd = 'experiments/' + sample_name + '/' + exp_names[i] + '/x_dd.dat'\n",
    "    xdata_fit = 'experiments/' + sample_name + '/' + exp_names[i] + '/x_fit.csv'\n",
    "    df_uu = read_exp(xdata_uu)\n",
    "    df_dd = read_exp(xdata_dd)\n",
    "    df_fit = pd.read_csv(xdata_fit)\n",
    "\n",
    "    # we use the lowest temperature measurement for noise estimates\n",
    "    if i==0: q_exp = 10*df_uu['Q'].values\n",
    "\n",
    "    ax1.errorbar(10*df_uu['Q'].values, 10**i*df_uu['R'].values, yerr=df_uu['dR'].values, lw=0, elinewidth=1,\n",
    "                 color=cmap_temp(norm(temps[i])))\n",
    "    ax2.errorbar(10*df_dd['Q'].values, 10**i*df_dd['R'].values, yerr=df_dd['dR'].values, lw=0, elinewidth=1,\n",
    "                 color=cmap_temp(norm(temps[i])))\n",
    "    ax1.scatter(10*df_uu['Q'].values, 10**i*df_uu['R'].values, s=24, color=cmap_temp(norm(temps[i])),\n",
    "                ec='none', label=exp_names[i])\n",
    "    ax2.scatter(10*df_dd['Q'].values, 10**i*df_dd['R'].values, s=24, color=cmap_temp(norm(temps[i])),\n",
    "                ec='none', label=exp_names[i])\n",
    "    ax1.plot(10*df_fit['x'], 10**i*df_fit['y_uu'], color=cmap_temp(norm(temps[i])), alpha=0.7)\n",
    "    ax2.plot(10*df_fit['x'], 10**i*df_fit['y_dd'], color=cmap_temp(norm(temps[i])), alpha=0.7)\n",
    "\n",
    "ax1.set_yscale('log')\n",
    "ax2.set_yscale('log')\n",
    "ax1.legend(frameon=False, ncol=2, prop=prop_text, loc='upper right', columnspacing=1.4, handletextpad=0.4)\n",
    "ax2.legend(frameon=False, ncol=2, prop=prop_text, loc='upper right', columnspacing=1.4, handletextpad=0.4)\n",
    "\n",
    "format_axis(ax1, 'Q (nm$^{-1}$)', 'Reflectivity', prop, 'R$^{++}$', xlims=[q.min(), q.max()])\n",
    "format_axis(ax2, 'Q (nm$^{-1}$)', ' ', prop, 'R$^{--}$', xlims=[q.min(), q.max()])\n",
    "\n",
    "fig.tight_layout()\n",
    "fig.subplots_adjust(wspace=0.1)\n",
    "fig.savefig(image_dir + '/pnr_experiment.pdf')"
   ]
  },
  {
   "cell_type": "code",
   "execution_count": null,
   "id": "26149d27",
   "metadata": {},
   "outputs": [],
   "source": [
    "# save colorbar\n",
    "sm = mpl.cm.ScalarMappable(cmap=cmap_temp, norm=norm)\n",
    "sm.set_array([])\n",
    "\n",
    "fig, ax = plt.subplots(figsize=(0.21,2.5))\n",
    "cbar = fig.colorbar(sm, cax=ax, ticks=temps)\n",
    "cbar.ax.set_title('T (K)', fontproperties=prop_text)\n",
    "cbar.ax.tick_params(direction='in', length=6, width=1)\n",
    "for lab in cbar.ax.get_yticklabels():\n",
    "    lab.set_fontproperties(prop_text)\n",
    "cbar.ax.set_yticklabels([str(i) for i in temps])\n",
    "cbar.ax.minorticks_off()\n",
    "cbar.outline.set_visible(False)\n",
    "\n",
    "fontsize = 16\n",
    "format_axis(cbar.ax, '', '', prop_text)\n",
    "fig.savefig(image_dir + '/pnr_experiment_cbar.pdf', bbox_inches='tight')"
   ]
  },
  {
   "cell_type": "code",
   "execution_count": null,
   "id": "9ceef266",
   "metadata": {},
   "outputs": [],
   "source": [
    "# parse synthetic data\n",
    "xdata_uu =  data_dir + '/xdata_uu.txt'\n",
    "xdata_dd =  data_dir + '/xdata_dd.txt'\n",
    "ydata =  data_dir + '/ydata.txt'\n",
    "\n",
    "x_uu = pd.read_csv(xdata_uu, header=None, sep=' ', dtype=float).values\n",
    "x_dd = pd.read_csv(xdata_dd, header=None, sep=' ', dtype=float).values\n",
    "x = np.stack([x_uu, x_dd], axis=2)\n",
    "\n",
    "df = pd.read_csv(ydata, dtype=float)\n",
    "df['class_prox'] = (df['magn_prox'] > 0).astype(int)\n",
    "y = df['class_prox'].values\n",
    "y_data, y_columns, y_header, y_ids, y_labels, y_units = parse_labels(df, fit_roughness)"
   ]
  },
  {
   "cell_type": "code",
   "execution_count": null,
   "id": "f2af53f7",
   "metadata": {},
   "outputs": [],
   "source": [
    "# organize dataframe of parameter values\n",
    "layer = []\n",
    "for l in layers:\n",
    "    layer += [l]*len(df)\n",
    "\n",
    "df.loc[df['class_prox']==0, 'class_prox'] = 'no proximity'\n",
    "df.loc[df['class_prox']==1, 'class_prox'] = 'with proximity'\n",
    "\n",
    "df = pd.DataFrame({'layer': layer,\n",
    "                   'dens': np.concatenate([df[col].values for col in df.columns if col.startswith('dens_')]),\n",
    "                   'd': np.concatenate([df[col].values for col in df.columns if col.startswith('d_')]),\n",
    "                   's': np.concatenate([df[col].values for col in df.columns if col.startswith('s_')]),\n",
    "                   'magn': np.concatenate([df[col].values for col in df.columns if col.startswith('magn_')]),\n",
    "                   'class_prox': np.tile(df['class_prox'].values, len(layers))})"
   ]
  },
  {
   "cell_type": "code",
   "execution_count": null,
   "id": "385e577e",
   "metadata": {},
   "outputs": [],
   "source": [
    "# plot parameter ranges\n",
    "u = 1.66054\n",
    "df['M'] = df['layer'].map(lambda x: M[layers.index(x)])\n",
    "\n",
    "# sampled density in g/cm^3\n",
    "df['rho'] = df['dens']*u*df['M']/1e3\n",
    "\n",
    "# magnetization in emu/cm^3\n",
    "df['magn_'] = df['magn']*df['dens']*9.274\n",
    "\n",
    "fig, ((ax1, ax2, ax3), (ax4, ax5, ax6)) = plt.subplots(2,3, figsize=(15,9))\n",
    "ylabels = ['thickness (nm)', 'density (f.u./'+r'$nm^3$)', 'density (g/'+r'$cm^3$)',\n",
    "           'roughness (nm)', 'magnetization ('+r'$\\mu_B$/f.u.)', 'magnetization ('+r'$emu/cm^3$)']\n",
    "\n",
    "for i, (param, ax, ylabel) in enumerate(zip(['d', 'dens', 'rho', 's', 'magn', 'magn_'],\n",
    "                                            [ax1, ax2, ax3, ax4, ax5, ax6], ylabels)):\n",
    "\n",
    "    g = sns.violinplot(ax=ax, x=param, y='layer', hue='class_prox', split=True, inner=None, cut=0, width=0.6,\n",
    "                       scale='count', saturation=0.9, data=df,\n",
    "                       palette={'with proximity': cmap_disc_light(1), 'no proximity': cmap_disc_light(0)})\n",
    "    g.legend_.remove()\n",
    "    ax.invert_yaxis()    \n",
    "    format_axis(ax, ylabel, '', prop)\n",
    "\n",
    "ax6.legend(prop=prop, frameon=False, loc='lower right')\n",
    "fig.tight_layout()\n",
    "fig.savefig(image_dir + '/parameters.pdf')"
   ]
  },
  {
   "cell_type": "code",
   "execution_count": null,
   "id": "0674df28",
   "metadata": {
    "scrolled": false
   },
   "outputs": [],
   "source": [
    "# visualize separability by PCA on x-values\n",
    "plot_latent_representation(image_dir, x.reshape(x.shape[0],-1), y_data, y_ids, y_labels, y_units, 'properties',\n",
    "                           mode=0)"
   ]
  },
  {
   "cell_type": "code",
   "execution_count": null,
   "id": "8fe3f549",
   "metadata": {},
   "outputs": [],
   "source": [
    "# visualize separability by PCA on y-values\n",
    "plot_latent_representation(image_dir, x.reshape(x.shape[0],-1), y_data, y_ids, y_labels, y_units, 'properties',\n",
    "                           mode=1)"
   ]
  },
  {
   "cell_type": "code",
   "execution_count": null,
   "id": "5c785cce",
   "metadata": {},
   "outputs": [],
   "source": [
    "# visualize separability by gradient on y-values\n",
    "plot_latent_representation(image_dir, x.reshape(x.shape[0],-1), y_data, y_ids, y_labels, y_units, 'properties',\n",
    "                           mode=2)"
   ]
  },
  {
   "cell_type": "code",
   "execution_count": null,
   "id": "9fd0894b",
   "metadata": {},
   "outputs": [],
   "source": [
    "prop.set_size(18)\n",
    "\n",
    "# separate positive and negative examples\n",
    "i_pos = np.nonzero(y)[0]\n",
    "i_neg = np.nonzero(y - 1)[0]\n",
    "\n",
    "# select first num_examples examples to plot\n",
    "num_examples = 20"
   ]
  },
  {
   "cell_type": "code",
   "execution_count": null,
   "id": "af26158a",
   "metadata": {},
   "outputs": [],
   "source": [
    "# plot summary of synthetic data\n",
    "fig, (ax1, ax2) = plt.subplots(1,2, figsize=(9.5,5), sharey=True)\n",
    "for i, label, color in zip([i_pos, i_neg], ['with proximity', 'no proximity'], [cmap_disc(1), cmap_disc(0)]):\n",
    "    x_uu_avg = np.mean(x[i,:,0], axis=0)\n",
    "    x_uu_min = np.min(x[i,:,0], axis=0)\n",
    "    x_uu_max = np.max(x[i,:,0], axis=0)\n",
    "\n",
    "    x_dd_avg = np.mean(x[i,:,1], axis=0)\n",
    "    x_dd_min = np.min(x[i,:,1], axis=0)\n",
    "    x_dd_max = np.max(x[i,:,1], axis=0)\n",
    "\n",
    "    ax1.plot(q, x_uu_avg, color=color, label=label)\n",
    "    ax1.fill_between(q, smooth_data(x_uu_max, int(N/32.)), y2=smooth_data(x_uu_min, int(N/32.)),\n",
    "                     color=color, alpha=0.2)\n",
    "\n",
    "    ax2.plot(q, x_dd_avg, color=color, label=label)\n",
    "    ax2.fill_between(q, smooth_data(x_dd_max, int(N/32.)), y2=smooth_data(x_uu_min, int(N/32.)),\n",
    "                     color=color, alpha=0.2)\n",
    "\n",
    "ax1.set_yscale('log')\n",
    "ax2.set_yscale('log')\n",
    "ax1.legend(prop=prop, frameon=False)\n",
    "ax2.legend(prop=prop, frameon=False)\n",
    "\n",
    "format_axis(ax1, 'Q (nm$^{-1}$)', 'Reflectivity', prop, 'R$^{++}$', [q.min(), q.max()], [1e-9, 1.1])\n",
    "format_axis(ax2, 'Q (nm$^{-1}$)', ' ', prop, 'R$^{--}$', [q.min(), q.max()], [1e-9, 1.1])\n",
    "\n",
    "fig.tight_layout()\n",
    "fig.subplots_adjust(wspace=0.1)\n",
    "fig.savefig(image_dir + '/pnr_summary.pdf')"
   ]
  },
  {
   "cell_type": "code",
   "execution_count": null,
   "id": "81ef128f",
   "metadata": {},
   "outputs": [],
   "source": [
    "# plot example spectra\n",
    "fig, (ax1, ax2) = plt.subplots(1,2, figsize=(9.5,5), sharey=True)\n",
    "for i, label, color in zip([i_pos, i_neg], ['with proximity', 'no proximity'], [cmap_disc(1), cmap_disc(0)]):\n",
    "    ax1.plot(q, x[i[0],:,0].T, color=color, alpha=0.5, label=label)\n",
    "    ax1.plot(q, x[i[1:num_examples],:,0].T, color=color, alpha=0.5)\n",
    "\n",
    "    ax2.plot(q, x[i[0],:,1].T, color=color, alpha=0.5, label=label)\n",
    "    ax2.plot(q, x[i[1:num_examples],:,1].T, color=color, alpha=0.5)\n",
    "\n",
    "ax1.set_yscale('log')\n",
    "ax2.set_yscale('log')\n",
    "ax1.legend(prop=prop, frameon=False)\n",
    "ax2.legend(prop=prop, frameon=False)\n",
    "\n",
    "format_axis(ax1, 'Q (nm$^{-1}$)', 'Reflectivity', prop, 'R$^{++}$', [q.min(), q.max()], [1E-9, 1.1])\n",
    "format_axis(ax2, 'Q (nm$^{-1}$)', ' ', prop, 'R$^{--}$', [q.min(), q.max()], [1E-9, 1.1])\n",
    "\n",
    "fig.tight_layout()\n",
    "fig.subplots_adjust(wspace=0.1)\n",
    "fig.savefig(image_dir + '/pnr_examples.pdf')"
   ]
  },
  {
   "cell_type": "code",
   "execution_count": null,
   "id": "4ac0caf9",
   "metadata": {},
   "outputs": [],
   "source": []
  }
 ],
 "metadata": {
  "kernelspec": {
   "display_name": "Python 3",
   "language": "python",
   "name": "python3"
  },
  "language_info": {
   "codemirror_mode": {
    "name": "ipython",
    "version": 3
   },
   "file_extension": ".py",
   "mimetype": "text/x-python",
   "name": "python",
   "nbconvert_exporter": "python",
   "pygments_lexer": "ipython3",
   "version": "3.7.5"
  }
 },
 "nbformat": 4,
 "nbformat_minor": 5
}
